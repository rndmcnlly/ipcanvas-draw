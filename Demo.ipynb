{
 "cells": [
  {
   "cell_type": "markdown",
   "id": "2db69756-2cfa-4e97-85e1-f9e882f26ded",
   "metadata": {},
   "source": [
    "# IPyCanvas Drawing Demo\n",
    "\n",
    "Use the canvas below to draw. If the drawing tools feel unresponsive, that's because the rendering is happening on th server side. This demo exists as a way to show how to use `ipycanvas` inside of a Binder-deployed demo."
   ]
  },
  {
   "cell_type": "code",
   "execution_count": 1,
   "id": "79339880-9562-4ec0-a513-9ecfad23cb46",
   "metadata": {},
   "outputs": [],
   "source": [
    "import ipycanvas\n",
    "import ipywidgets"
   ]
  },
  {
   "cell_type": "code",
   "execution_count": 2,
   "id": "e873020c-0644-42f4-8403-d84b968c08a5",
   "metadata": {},
   "outputs": [
    {
     "data": {
      "application/vnd.jupyter.widget-view+json": {
       "model_id": "d76618da66a9445fbb9cd976d8748d75",
       "version_major": 2,
       "version_minor": 0
      },
      "text/plain": [
       "HBox(children=(RoughCanvas(width=400), Button(description='clear', style=ButtonStyle())))"
      ]
     },
     "metadata": {},
     "output_type": "display_data"
    }
   ],
   "source": [
    "canvas = ipycanvas.RoughCanvas(width=400,heigh=300)\n",
    "\n",
    "canvas.stroke_style = 'darkblue'\n",
    "\n",
    "last_xy = None\n",
    "\n",
    "@canvas.on_mouse_down\n",
    "def down(x,y):\n",
    "  global last_xy\n",
    "  last_xy = x,y\n",
    "  canvas.stroke_circle(x,y,5)\n",
    "\n",
    "@canvas.on_mouse_move\n",
    "def move(x,y):\n",
    "  global last_xy\n",
    "  if last_xy:\n",
    "    canvas.stroke_line(last_xy[0],last_xy[1],x,y)\n",
    "    last_xy = x,y\n",
    "\n",
    "@canvas.on_mouse_up\n",
    "def up(x,y):\n",
    "  global last_xy\n",
    "  last_xy = None\n",
    "  canvas.stroke_circle(x,y,5)\n",
    "\n",
    "\n",
    "\n",
    "def clear():\n",
    "  canvas.clear()\n",
    "  canvas.stroke_rect(10,10,400-10,300-10)\n",
    "\n",
    "button = ipywidgets.Button(description=\"clear\")\n",
    "\n",
    "clear()\n",
    "\n",
    "@button.on_click\n",
    "def click(_):\n",
    "  clear()\n",
    "\n",
    "ipywidgets.HBox([canvas,button])"
   ]
  },
  {
   "cell_type": "code",
   "execution_count": null,
   "id": "0b5faee0-2ab0-46b6-9333-849da9c2e951",
   "metadata": {},
   "outputs": [],
   "source": []
  }
 ],
 "metadata": {
  "kernelspec": {
   "display_name": "Python 3 (ipykernel)",
   "language": "python",
   "name": "python3"
  },
  "language_info": {
   "codemirror_mode": {
    "name": "ipython",
    "version": 3
   },
   "file_extension": ".py",
   "mimetype": "text/x-python",
   "name": "python",
   "nbconvert_exporter": "python",
   "pygments_lexer": "ipython3",
   "version": "3.7.12"
  }
 },
 "nbformat": 4,
 "nbformat_minor": 5
}
